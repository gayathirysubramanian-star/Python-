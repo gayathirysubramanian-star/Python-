{
 "cells": [
  {
   "cell_type": "code",
   "execution_count": null,
   "id": "236b38f9-e55c-4782-b6c7-8b816a6141dc",
   "metadata": {},
   "outputs": [],
   "source": [
    "import pandas as pd\n",
    "\n",
    "data = {\n",
    "    'Date': ['2025-10-01', '2025-10-02', '2025-10-03', '2025-10-04', '2025-10-05'],\n",
    "    'Region': ['East', None, 'West', 'North', None],\n",
    "    'Product': ['A', 'B', 'C', 'A', 'B'],\n",
    "    'Sales': [250, -100, 300, 150, -50]\n",
    "}\n",
    "\n",
    "df_sales = pd.DataFrame(data)\n",
    "df_sales\n"
   ]
  },
  {
   "cell_type": "code",
   "execution_count": null,
   "id": "b0263cfe-2c0b-4a51-8f30-3a574fd3907d",
   "metadata": {},
   "outputs": [],
   "source": [
    "df = df_sales"
   ]
  },
  {
   "cell_type": "code",
   "execution_count": null,
   "id": "4a978640-2647-44fb-85b5-b1a51e1e196d",
   "metadata": {},
   "outputs": [],
   "source": [
    "df.dtypes"
   ]
  },
  {
   "cell_type": "code",
   "execution_count": null,
   "id": "2d17ff34-99cd-4104-a26d-8d27dccedcfc",
   "metadata": {},
   "outputs": [],
   "source": [
    "df2 = df[~df['Sales']<0]"
   ]
  },
  {
   "cell_type": "code",
   "execution_count": null,
   "id": "d3a5a17f-44c9-4c6f-8dd7-2d791ab5d25a",
   "metadata": {},
   "outputs": [],
   "source": [
    "df2"
   ]
  },
  {
   "cell_type": "code",
   "execution_count": null,
   "id": "0ea72cb2-e5cc-4211-b8d3-341d7ddafc41",
   "metadata": {},
   "outputs": [],
   "source": [
    "df.loc[len(df)] = ['2025-10-04',None,'B',300]"
   ]
  },
  {
   "cell_type": "code",
   "execution_count": null,
   "id": "568906ee-23b8-4d90-bccc-dc5d858b3113",
   "metadata": {},
   "outputs": [],
   "source": [
    "df"
   ]
  },
  {
   "cell_type": "code",
   "execution_count": null,
   "id": "5932736f-1320-4595-aff0-dc771db15de6",
   "metadata": {},
   "outputs": [],
   "source": [
    "df.loc[:, 'Region'] = df['Region'].fillna('Unknown')"
   ]
  },
  {
   "cell_type": "code",
   "execution_count": null,
   "id": "0f675b62-1633-4b06-a7b9-d2c74581b2c7",
   "metadata": {},
   "outputs": [],
   "source": [
    "df"
   ]
  },
  {
   "cell_type": "code",
   "execution_count": null,
   "id": "c707c53a-156b-4d0c-bf74-7855b94444a4",
   "metadata": {},
   "outputs": [],
   "source": [
    "df.groupby('Region')['Sales'].sum()"
   ]
  },
  {
   "cell_type": "code",
   "execution_count": null,
   "id": "1df1b212-63e6-4eb9-adc3-5a685f34aaf3",
   "metadata": {},
   "outputs": [],
   "source": [
    "data = {\n",
    "    'OrderID': [101, 102, 103, 104, 105],\n",
    "    'CustomerID': [1, 2, 1, 3, 2],\n",
    "    'OrderDate': ['2025-01-05', '2025-02-12', '2025-01-22', '2025-03-10', '2025-03-18']\n",
    "}\n",
    "\n",
    "df_orders = pd.DataFrame(data)\n",
    "df_orders\n"
   ]
  },
  {
   "cell_type": "code",
   "execution_count": null,
   "id": "08eff91e-121f-4a8a-8d1c-49b1f8cad211",
   "metadata": {},
   "outputs": [],
   "source": [
    "df_orders['OrderDate'] = pd.to_datetime(df_orders['OrderDate'])"
   ]
  },
  {
   "cell_type": "code",
   "execution_count": null,
   "id": "ac539880-b2b5-4599-a710-7d92184bf5dd",
   "metadata": {},
   "outputs": [],
   "source": [
    "df_orders.dtypes"
   ]
  },
  {
   "cell_type": "code",
   "execution_count": null,
   "id": "92195615-0080-43ff-b8bb-988afbd7ace0",
   "metadata": {},
   "outputs": [],
   "source": [
    "df_orders['OrderMonth'] = df_orders['OrderDate'].dt.month"
   ]
  },
  {
   "cell_type": "code",
   "execution_count": null,
   "id": "062288d5-fa21-4c2a-bc62-f1ae4b6291ba",
   "metadata": {},
   "outputs": [],
   "source": [
    "df_orders"
   ]
  },
  {
   "cell_type": "code",
   "execution_count": null,
   "id": "91268133-fc99-4d71-9bd8-6653c6e5948c",
   "metadata": {},
   "outputs": [],
   "source": [
    "df_orders['OrderMonth'].value_counts()"
   ]
  },
  {
   "cell_type": "code",
   "execution_count": null,
   "id": "a2841e92-7728-4dda-8982-3943de55fcbd",
   "metadata": {},
   "outputs": [],
   "source": [
    "data = {\n",
    "    'ProductID': [1, 2, 3, 4, 5, 6],\n",
    "    'Category': ['Electronics', 'Electronics', 'Clothing', 'Clothing', 'Grocery', 'Grocery'],\n",
    "    'Price': [1200, 800, 150, 100, 50, 70]\n",
    "}\n",
    "\n",
    "df_products = pd.DataFrame(data)\n",
    "df_products\n"
   ]
  },
  {
   "cell_type": "code",
   "execution_count": null,
   "id": "7f3e718b-da88-4369-8a04-02a873e403e7",
   "metadata": {},
   "outputs": [],
   "source": [
    "df_products.groupby('Category')['Price'].mean()"
   ]
  },
  {
   "cell_type": "code",
   "execution_count": null,
   "id": "c19f1ebe-cef6-4657-8551-e44a0dc7b518",
   "metadata": {},
   "outputs": [],
   "source": [
    "df_products.groupby('Category')['Price'].max()"
   ]
  },
  {
   "cell_type": "code",
   "execution_count": null,
   "id": "77023b70-3b89-41ba-9f21-ee00ea9f55d8",
   "metadata": {},
   "outputs": [],
   "source": [
    "mean_price = df_products['Price'].mean()"
   ]
  },
  {
   "cell_type": "code",
   "execution_count": null,
   "id": "f5b798cc-94ef-40e5-86a5-4084a6b59cb2",
   "metadata": {},
   "outputs": [],
   "source": [
    "df_products['Price Level'] = df_products['Price'].apply(lambda x: 'High' if x>mean_price else 'Low')"
   ]
  },
  {
   "cell_type": "code",
   "execution_count": null,
   "id": "2277f895-2e4c-4cb4-a082-cecd76cda10b",
   "metadata": {},
   "outputs": [],
   "source": [
    "df_products"
   ]
  },
  {
   "cell_type": "code",
   "execution_count": null,
   "id": "43dff98e-2364-42df-8541-a8de96208ad4",
   "metadata": {},
   "outputs": [],
   "source": [
    "data = {\n",
    "    'ReviewID': [1, 2, 3, 4, 5],\n",
    "    'ReviewText': [\n",
    "        \"This product is excellent and works perfectly.\",\n",
    "        \"Bad experience, not worth it.\",\n",
    "        \"An excellent value for money product.\",\n",
    "        \"Quite poor in quality, but not bad overall.\",\n",
    "        \"Bad! The service was terrible.\"\n",
    "    ]\n",
    "}\n",
    "\n",
    "df_reviews = pd.DataFrame(data)\n",
    "df_reviews\n"
   ]
  },
  {
   "cell_type": "code",
   "execution_count": null,
   "id": "8f519b8f-9b71-4695-9c16-bd343ce0dccb",
   "metadata": {},
   "outputs": [],
   "source": [
    "count_excellent = df_reviews['ReviewText'].str.contains('excellent', case = False).sum()\n",
    "print(count_excellent)"
   ]
  },
  {
   "cell_type": "code",
   "execution_count": null,
   "id": "204c7aa4-b352-4532-8990-c1bc26e26592",
   "metadata": {},
   "outputs": [],
   "source": [
    "df_reviews['ReviewText'] = df_reviews['ReviewText'].str.replace('bad','poor')"
   ]
  },
  {
   "cell_type": "code",
   "execution_count": null,
   "id": "3279112b-4956-4f93-8489-84d2865a7e7d",
   "metadata": {},
   "outputs": [],
   "source": [
    "df_reviews"
   ]
  },
  {
   "cell_type": "code",
   "execution_count": null,
   "id": "9664a8d2-cec6-461b-b357-ddcf8c712e94",
   "metadata": {},
   "outputs": [],
   "source": [
    "data = {\n",
    "    'Product': ['Laptop', 'TV', 'Shirt', 'Rice', 'Phone', 'Book'],\n",
    "    'Category': ['Electronics', 'Electronics', 'Clothing', 'Grocery', 'Electronics', 'Stationery'],\n",
    "    'Price': [70000, 40000, 800, 50, 30000, 200],\n",
    "    'Stock': [60, 25, 100, 200, 80, 150]\n",
    "}\n",
    "\n",
    "df_stock = pd.DataFrame(data)\n",
    "df_stock"
   ]
  },
  {
   "cell_type": "code",
   "execution_count": null,
   "id": "84811c49-9a5d-42e1-8542-f44bcb6ec16d",
   "metadata": {},
   "outputs": [],
   "source": [
    "condition = (df_stock['Category'] == 'Electronics') & (df_stock['Stock'] > 50)"
   ]
  },
  {
   "cell_type": "code",
   "execution_count": null,
   "id": "ccbf86ae-74e4-42e1-aa68-35c57e74153d",
   "metadata": {},
   "outputs": [],
   "source": [
    "df_stock.loc[condition, 'Price'] = (df_stock.loc[condition, 'Price'] )*1.10"
   ]
  },
  {
   "cell_type": "code",
   "execution_count": null,
   "id": "d630b815-376b-4fde-87ea-17c1645d6879",
   "metadata": {},
   "outputs": [],
   "source": [
    "df_stock"
   ]
  },
  {
   "cell_type": "code",
   "execution_count": null,
   "id": "d2b96485-46d4-496a-9f35-55a5eb86d437",
   "metadata": {},
   "outputs": [],
   "source": []
  }
 ],
 "metadata": {
  "kernelspec": {
   "display_name": "Python [conda env:base] *",
   "language": "python",
   "name": "conda-base-py"
  },
  "language_info": {
   "codemirror_mode": {
    "name": "ipython",
    "version": 3
   },
   "file_extension": ".py",
   "mimetype": "text/x-python",
   "name": "python",
   "nbconvert_exporter": "python",
   "pygments_lexer": "ipython3",
   "version": "3.13.5"
  }
 },
 "nbformat": 4,
 "nbformat_minor": 5
}
